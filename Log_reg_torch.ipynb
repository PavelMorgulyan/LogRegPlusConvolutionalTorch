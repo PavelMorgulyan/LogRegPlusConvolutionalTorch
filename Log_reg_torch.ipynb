{
  "nbformat": 4,
  "nbformat_minor": 0,
  "metadata": {
    "colab": {
      "name": "Log_reg_torch.ipynb",
      "provenance": [],
      "collapsed_sections": [],
      "toc_visible": true
    },
    "kernelspec": {
      "name": "python3",
      "display_name": "Python 3"
    },
    "language_info": {
      "name": "python"
    },
    "widgets": {
      "application/vnd.jupyter.widget-state+json": {
        "a04f351dfad446ceaa80f5705ff79493": {
          "model_module": "@jupyter-widgets/controls",
          "model_name": "HBoxModel",
          "model_module_version": "1.5.0",
          "state": {
            "_view_name": "HBoxView",
            "_dom_classes": [],
            "_model_name": "HBoxModel",
            "_view_module": "@jupyter-widgets/controls",
            "_model_module_version": "1.5.0",
            "_view_count": null,
            "_view_module_version": "1.5.0",
            "box_style": "",
            "layout": "IPY_MODEL_651a76ea2823464f976c02e2ae370f5a",
            "_model_module": "@jupyter-widgets/controls",
            "children": [
              "IPY_MODEL_6a81586fa36843239be4a6a9a8512336",
              "IPY_MODEL_dc66fa7c80d04dc591dd4199455646cb",
              "IPY_MODEL_c385af4e55ea4c41a406313d543be15e"
            ]
          }
        },
        "651a76ea2823464f976c02e2ae370f5a": {
          "model_module": "@jupyter-widgets/base",
          "model_name": "LayoutModel",
          "model_module_version": "1.2.0",
          "state": {
            "_view_name": "LayoutView",
            "grid_template_rows": null,
            "right": null,
            "justify_content": null,
            "_view_module": "@jupyter-widgets/base",
            "overflow": null,
            "_model_module_version": "1.2.0",
            "_view_count": null,
            "flex_flow": null,
            "width": null,
            "min_width": null,
            "border": null,
            "align_items": null,
            "bottom": null,
            "_model_module": "@jupyter-widgets/base",
            "top": null,
            "grid_column": null,
            "overflow_y": null,
            "overflow_x": null,
            "grid_auto_flow": null,
            "grid_area": null,
            "grid_template_columns": null,
            "flex": null,
            "_model_name": "LayoutModel",
            "justify_items": null,
            "grid_row": null,
            "max_height": null,
            "align_content": null,
            "visibility": null,
            "align_self": null,
            "height": null,
            "min_height": null,
            "padding": null,
            "grid_auto_rows": null,
            "grid_gap": null,
            "max_width": null,
            "order": null,
            "_view_module_version": "1.2.0",
            "grid_template_areas": null,
            "object_position": null,
            "object_fit": null,
            "grid_auto_columns": null,
            "margin": null,
            "display": null,
            "left": null
          }
        },
        "6a81586fa36843239be4a6a9a8512336": {
          "model_module": "@jupyter-widgets/controls",
          "model_name": "HTMLModel",
          "model_module_version": "1.5.0",
          "state": {
            "_view_name": "HTMLView",
            "style": "IPY_MODEL_05b86370e71a46d0b9deb0cde4360c3d",
            "_dom_classes": [],
            "description": "",
            "_model_name": "HTMLModel",
            "placeholder": "​",
            "_view_module": "@jupyter-widgets/controls",
            "_model_module_version": "1.5.0",
            "value": "",
            "_view_count": null,
            "_view_module_version": "1.5.0",
            "description_tooltip": null,
            "_model_module": "@jupyter-widgets/controls",
            "layout": "IPY_MODEL_a3df648b7c92436f8203c7e4508885bd"
          }
        },
        "dc66fa7c80d04dc591dd4199455646cb": {
          "model_module": "@jupyter-widgets/controls",
          "model_name": "FloatProgressModel",
          "model_module_version": "1.5.0",
          "state": {
            "_view_name": "ProgressView",
            "style": "IPY_MODEL_2d8d73b849b1466783ba590eaaf046b1",
            "_dom_classes": [],
            "description": "",
            "_model_name": "FloatProgressModel",
            "bar_style": "success",
            "max": 9912422,
            "_view_module": "@jupyter-widgets/controls",
            "_model_module_version": "1.5.0",
            "value": 9912422,
            "_view_count": null,
            "_view_module_version": "1.5.0",
            "orientation": "horizontal",
            "min": 0,
            "description_tooltip": null,
            "_model_module": "@jupyter-widgets/controls",
            "layout": "IPY_MODEL_b82aa9f2e9204436900cb07e1d6102be"
          }
        },
        "c385af4e55ea4c41a406313d543be15e": {
          "model_module": "@jupyter-widgets/controls",
          "model_name": "HTMLModel",
          "model_module_version": "1.5.0",
          "state": {
            "_view_name": "HTMLView",
            "style": "IPY_MODEL_65165b3efac3478e8db8a5538fbfa379",
            "_dom_classes": [],
            "description": "",
            "_model_name": "HTMLModel",
            "placeholder": "​",
            "_view_module": "@jupyter-widgets/controls",
            "_model_module_version": "1.5.0",
            "value": " 9913344/? [00:00&lt;00:00, 26241391.16it/s]",
            "_view_count": null,
            "_view_module_version": "1.5.0",
            "description_tooltip": null,
            "_model_module": "@jupyter-widgets/controls",
            "layout": "IPY_MODEL_7f01293c15e3445b9c736329e9d5e163"
          }
        },
        "05b86370e71a46d0b9deb0cde4360c3d": {
          "model_module": "@jupyter-widgets/controls",
          "model_name": "DescriptionStyleModel",
          "model_module_version": "1.5.0",
          "state": {
            "_view_name": "StyleView",
            "_model_name": "DescriptionStyleModel",
            "description_width": "",
            "_view_module": "@jupyter-widgets/base",
            "_model_module_version": "1.5.0",
            "_view_count": null,
            "_view_module_version": "1.2.0",
            "_model_module": "@jupyter-widgets/controls"
          }
        },
        "a3df648b7c92436f8203c7e4508885bd": {
          "model_module": "@jupyter-widgets/base",
          "model_name": "LayoutModel",
          "model_module_version": "1.2.0",
          "state": {
            "_view_name": "LayoutView",
            "grid_template_rows": null,
            "right": null,
            "justify_content": null,
            "_view_module": "@jupyter-widgets/base",
            "overflow": null,
            "_model_module_version": "1.2.0",
            "_view_count": null,
            "flex_flow": null,
            "width": null,
            "min_width": null,
            "border": null,
            "align_items": null,
            "bottom": null,
            "_model_module": "@jupyter-widgets/base",
            "top": null,
            "grid_column": null,
            "overflow_y": null,
            "overflow_x": null,
            "grid_auto_flow": null,
            "grid_area": null,
            "grid_template_columns": null,
            "flex": null,
            "_model_name": "LayoutModel",
            "justify_items": null,
            "grid_row": null,
            "max_height": null,
            "align_content": null,
            "visibility": null,
            "align_self": null,
            "height": null,
            "min_height": null,
            "padding": null,
            "grid_auto_rows": null,
            "grid_gap": null,
            "max_width": null,
            "order": null,
            "_view_module_version": "1.2.0",
            "grid_template_areas": null,
            "object_position": null,
            "object_fit": null,
            "grid_auto_columns": null,
            "margin": null,
            "display": null,
            "left": null
          }
        },
        "2d8d73b849b1466783ba590eaaf046b1": {
          "model_module": "@jupyter-widgets/controls",
          "model_name": "ProgressStyleModel",
          "model_module_version": "1.5.0",
          "state": {
            "_view_name": "StyleView",
            "_model_name": "ProgressStyleModel",
            "description_width": "",
            "_view_module": "@jupyter-widgets/base",
            "_model_module_version": "1.5.0",
            "_view_count": null,
            "_view_module_version": "1.2.0",
            "bar_color": null,
            "_model_module": "@jupyter-widgets/controls"
          }
        },
        "b82aa9f2e9204436900cb07e1d6102be": {
          "model_module": "@jupyter-widgets/base",
          "model_name": "LayoutModel",
          "model_module_version": "1.2.0",
          "state": {
            "_view_name": "LayoutView",
            "grid_template_rows": null,
            "right": null,
            "justify_content": null,
            "_view_module": "@jupyter-widgets/base",
            "overflow": null,
            "_model_module_version": "1.2.0",
            "_view_count": null,
            "flex_flow": null,
            "width": null,
            "min_width": null,
            "border": null,
            "align_items": null,
            "bottom": null,
            "_model_module": "@jupyter-widgets/base",
            "top": null,
            "grid_column": null,
            "overflow_y": null,
            "overflow_x": null,
            "grid_auto_flow": null,
            "grid_area": null,
            "grid_template_columns": null,
            "flex": null,
            "_model_name": "LayoutModel",
            "justify_items": null,
            "grid_row": null,
            "max_height": null,
            "align_content": null,
            "visibility": null,
            "align_self": null,
            "height": null,
            "min_height": null,
            "padding": null,
            "grid_auto_rows": null,
            "grid_gap": null,
            "max_width": null,
            "order": null,
            "_view_module_version": "1.2.0",
            "grid_template_areas": null,
            "object_position": null,
            "object_fit": null,
            "grid_auto_columns": null,
            "margin": null,
            "display": null,
            "left": null
          }
        },
        "65165b3efac3478e8db8a5538fbfa379": {
          "model_module": "@jupyter-widgets/controls",
          "model_name": "DescriptionStyleModel",
          "model_module_version": "1.5.0",
          "state": {
            "_view_name": "StyleView",
            "_model_name": "DescriptionStyleModel",
            "description_width": "",
            "_view_module": "@jupyter-widgets/base",
            "_model_module_version": "1.5.0",
            "_view_count": null,
            "_view_module_version": "1.2.0",
            "_model_module": "@jupyter-widgets/controls"
          }
        },
        "7f01293c15e3445b9c736329e9d5e163": {
          "model_module": "@jupyter-widgets/base",
          "model_name": "LayoutModel",
          "model_module_version": "1.2.0",
          "state": {
            "_view_name": "LayoutView",
            "grid_template_rows": null,
            "right": null,
            "justify_content": null,
            "_view_module": "@jupyter-widgets/base",
            "overflow": null,
            "_model_module_version": "1.2.0",
            "_view_count": null,
            "flex_flow": null,
            "width": null,
            "min_width": null,
            "border": null,
            "align_items": null,
            "bottom": null,
            "_model_module": "@jupyter-widgets/base",
            "top": null,
            "grid_column": null,
            "overflow_y": null,
            "overflow_x": null,
            "grid_auto_flow": null,
            "grid_area": null,
            "grid_template_columns": null,
            "flex": null,
            "_model_name": "LayoutModel",
            "justify_items": null,
            "grid_row": null,
            "max_height": null,
            "align_content": null,
            "visibility": null,
            "align_self": null,
            "height": null,
            "min_height": null,
            "padding": null,
            "grid_auto_rows": null,
            "grid_gap": null,
            "max_width": null,
            "order": null,
            "_view_module_version": "1.2.0",
            "grid_template_areas": null,
            "object_position": null,
            "object_fit": null,
            "grid_auto_columns": null,
            "margin": null,
            "display": null,
            "left": null
          }
        },
        "ccc1fdf761084fddafea535bb90c2c0c": {
          "model_module": "@jupyter-widgets/controls",
          "model_name": "HBoxModel",
          "model_module_version": "1.5.0",
          "state": {
            "_view_name": "HBoxView",
            "_dom_classes": [],
            "_model_name": "HBoxModel",
            "_view_module": "@jupyter-widgets/controls",
            "_model_module_version": "1.5.0",
            "_view_count": null,
            "_view_module_version": "1.5.0",
            "box_style": "",
            "layout": "IPY_MODEL_edd6dd4c85054596b309f69e095021e3",
            "_model_module": "@jupyter-widgets/controls",
            "children": [
              "IPY_MODEL_a20f0f4553f34c8794c5a5bfc86ef88b",
              "IPY_MODEL_1e8e8f45f1624b35be112bb11bc98927",
              "IPY_MODEL_1b6dd32408b9490eaee540ff4d08ae9a"
            ]
          }
        },
        "edd6dd4c85054596b309f69e095021e3": {
          "model_module": "@jupyter-widgets/base",
          "model_name": "LayoutModel",
          "model_module_version": "1.2.0",
          "state": {
            "_view_name": "LayoutView",
            "grid_template_rows": null,
            "right": null,
            "justify_content": null,
            "_view_module": "@jupyter-widgets/base",
            "overflow": null,
            "_model_module_version": "1.2.0",
            "_view_count": null,
            "flex_flow": null,
            "width": null,
            "min_width": null,
            "border": null,
            "align_items": null,
            "bottom": null,
            "_model_module": "@jupyter-widgets/base",
            "top": null,
            "grid_column": null,
            "overflow_y": null,
            "overflow_x": null,
            "grid_auto_flow": null,
            "grid_area": null,
            "grid_template_columns": null,
            "flex": null,
            "_model_name": "LayoutModel",
            "justify_items": null,
            "grid_row": null,
            "max_height": null,
            "align_content": null,
            "visibility": null,
            "align_self": null,
            "height": null,
            "min_height": null,
            "padding": null,
            "grid_auto_rows": null,
            "grid_gap": null,
            "max_width": null,
            "order": null,
            "_view_module_version": "1.2.0",
            "grid_template_areas": null,
            "object_position": null,
            "object_fit": null,
            "grid_auto_columns": null,
            "margin": null,
            "display": null,
            "left": null
          }
        },
        "a20f0f4553f34c8794c5a5bfc86ef88b": {
          "model_module": "@jupyter-widgets/controls",
          "model_name": "HTMLModel",
          "model_module_version": "1.5.0",
          "state": {
            "_view_name": "HTMLView",
            "style": "IPY_MODEL_4841fe20ffca49fbb72c34b8bd2de5c4",
            "_dom_classes": [],
            "description": "",
            "_model_name": "HTMLModel",
            "placeholder": "​",
            "_view_module": "@jupyter-widgets/controls",
            "_model_module_version": "1.5.0",
            "value": "",
            "_view_count": null,
            "_view_module_version": "1.5.0",
            "description_tooltip": null,
            "_model_module": "@jupyter-widgets/controls",
            "layout": "IPY_MODEL_9036e3d068ca428baca21bb972aa40c7"
          }
        },
        "1e8e8f45f1624b35be112bb11bc98927": {
          "model_module": "@jupyter-widgets/controls",
          "model_name": "FloatProgressModel",
          "model_module_version": "1.5.0",
          "state": {
            "_view_name": "ProgressView",
            "style": "IPY_MODEL_ab0ed8d42d6a43549f5b2f96026d358d",
            "_dom_classes": [],
            "description": "",
            "_model_name": "FloatProgressModel",
            "bar_style": "success",
            "max": 28881,
            "_view_module": "@jupyter-widgets/controls",
            "_model_module_version": "1.5.0",
            "value": 28881,
            "_view_count": null,
            "_view_module_version": "1.5.0",
            "orientation": "horizontal",
            "min": 0,
            "description_tooltip": null,
            "_model_module": "@jupyter-widgets/controls",
            "layout": "IPY_MODEL_a5debeeee9304f458750e28d009bfd6d"
          }
        },
        "1b6dd32408b9490eaee540ff4d08ae9a": {
          "model_module": "@jupyter-widgets/controls",
          "model_name": "HTMLModel",
          "model_module_version": "1.5.0",
          "state": {
            "_view_name": "HTMLView",
            "style": "IPY_MODEL_62887032469e426087869fa99329eb5f",
            "_dom_classes": [],
            "description": "",
            "_model_name": "HTMLModel",
            "placeholder": "​",
            "_view_module": "@jupyter-widgets/controls",
            "_model_module_version": "1.5.0",
            "value": " 29696/? [00:00&lt;00:00, 610140.35it/s]",
            "_view_count": null,
            "_view_module_version": "1.5.0",
            "description_tooltip": null,
            "_model_module": "@jupyter-widgets/controls",
            "layout": "IPY_MODEL_ea9c85ff72b24b389d91a9123fcbec73"
          }
        },
        "4841fe20ffca49fbb72c34b8bd2de5c4": {
          "model_module": "@jupyter-widgets/controls",
          "model_name": "DescriptionStyleModel",
          "model_module_version": "1.5.0",
          "state": {
            "_view_name": "StyleView",
            "_model_name": "DescriptionStyleModel",
            "description_width": "",
            "_view_module": "@jupyter-widgets/base",
            "_model_module_version": "1.5.0",
            "_view_count": null,
            "_view_module_version": "1.2.0",
            "_model_module": "@jupyter-widgets/controls"
          }
        },
        "9036e3d068ca428baca21bb972aa40c7": {
          "model_module": "@jupyter-widgets/base",
          "model_name": "LayoutModel",
          "model_module_version": "1.2.0",
          "state": {
            "_view_name": "LayoutView",
            "grid_template_rows": null,
            "right": null,
            "justify_content": null,
            "_view_module": "@jupyter-widgets/base",
            "overflow": null,
            "_model_module_version": "1.2.0",
            "_view_count": null,
            "flex_flow": null,
            "width": null,
            "min_width": null,
            "border": null,
            "align_items": null,
            "bottom": null,
            "_model_module": "@jupyter-widgets/base",
            "top": null,
            "grid_column": null,
            "overflow_y": null,
            "overflow_x": null,
            "grid_auto_flow": null,
            "grid_area": null,
            "grid_template_columns": null,
            "flex": null,
            "_model_name": "LayoutModel",
            "justify_items": null,
            "grid_row": null,
            "max_height": null,
            "align_content": null,
            "visibility": null,
            "align_self": null,
            "height": null,
            "min_height": null,
            "padding": null,
            "grid_auto_rows": null,
            "grid_gap": null,
            "max_width": null,
            "order": null,
            "_view_module_version": "1.2.0",
            "grid_template_areas": null,
            "object_position": null,
            "object_fit": null,
            "grid_auto_columns": null,
            "margin": null,
            "display": null,
            "left": null
          }
        },
        "ab0ed8d42d6a43549f5b2f96026d358d": {
          "model_module": "@jupyter-widgets/controls",
          "model_name": "ProgressStyleModel",
          "model_module_version": "1.5.0",
          "state": {
            "_view_name": "StyleView",
            "_model_name": "ProgressStyleModel",
            "description_width": "",
            "_view_module": "@jupyter-widgets/base",
            "_model_module_version": "1.5.0",
            "_view_count": null,
            "_view_module_version": "1.2.0",
            "bar_color": null,
            "_model_module": "@jupyter-widgets/controls"
          }
        },
        "a5debeeee9304f458750e28d009bfd6d": {
          "model_module": "@jupyter-widgets/base",
          "model_name": "LayoutModel",
          "model_module_version": "1.2.0",
          "state": {
            "_view_name": "LayoutView",
            "grid_template_rows": null,
            "right": null,
            "justify_content": null,
            "_view_module": "@jupyter-widgets/base",
            "overflow": null,
            "_model_module_version": "1.2.0",
            "_view_count": null,
            "flex_flow": null,
            "width": null,
            "min_width": null,
            "border": null,
            "align_items": null,
            "bottom": null,
            "_model_module": "@jupyter-widgets/base",
            "top": null,
            "grid_column": null,
            "overflow_y": null,
            "overflow_x": null,
            "grid_auto_flow": null,
            "grid_area": null,
            "grid_template_columns": null,
            "flex": null,
            "_model_name": "LayoutModel",
            "justify_items": null,
            "grid_row": null,
            "max_height": null,
            "align_content": null,
            "visibility": null,
            "align_self": null,
            "height": null,
            "min_height": null,
            "padding": null,
            "grid_auto_rows": null,
            "grid_gap": null,
            "max_width": null,
            "order": null,
            "_view_module_version": "1.2.0",
            "grid_template_areas": null,
            "object_position": null,
            "object_fit": null,
            "grid_auto_columns": null,
            "margin": null,
            "display": null,
            "left": null
          }
        },
        "62887032469e426087869fa99329eb5f": {
          "model_module": "@jupyter-widgets/controls",
          "model_name": "DescriptionStyleModel",
          "model_module_version": "1.5.0",
          "state": {
            "_view_name": "StyleView",
            "_model_name": "DescriptionStyleModel",
            "description_width": "",
            "_view_module": "@jupyter-widgets/base",
            "_model_module_version": "1.5.0",
            "_view_count": null,
            "_view_module_version": "1.2.0",
            "_model_module": "@jupyter-widgets/controls"
          }
        },
        "ea9c85ff72b24b389d91a9123fcbec73": {
          "model_module": "@jupyter-widgets/base",
          "model_name": "LayoutModel",
          "model_module_version": "1.2.0",
          "state": {
            "_view_name": "LayoutView",
            "grid_template_rows": null,
            "right": null,
            "justify_content": null,
            "_view_module": "@jupyter-widgets/base",
            "overflow": null,
            "_model_module_version": "1.2.0",
            "_view_count": null,
            "flex_flow": null,
            "width": null,
            "min_width": null,
            "border": null,
            "align_items": null,
            "bottom": null,
            "_model_module": "@jupyter-widgets/base",
            "top": null,
            "grid_column": null,
            "overflow_y": null,
            "overflow_x": null,
            "grid_auto_flow": null,
            "grid_area": null,
            "grid_template_columns": null,
            "flex": null,
            "_model_name": "LayoutModel",
            "justify_items": null,
            "grid_row": null,
            "max_height": null,
            "align_content": null,
            "visibility": null,
            "align_self": null,
            "height": null,
            "min_height": null,
            "padding": null,
            "grid_auto_rows": null,
            "grid_gap": null,
            "max_width": null,
            "order": null,
            "_view_module_version": "1.2.0",
            "grid_template_areas": null,
            "object_position": null,
            "object_fit": null,
            "grid_auto_columns": null,
            "margin": null,
            "display": null,
            "left": null
          }
        },
        "53e808365e044f71bd4cb0b01763ca31": {
          "model_module": "@jupyter-widgets/controls",
          "model_name": "HBoxModel",
          "model_module_version": "1.5.0",
          "state": {
            "_view_name": "HBoxView",
            "_dom_classes": [],
            "_model_name": "HBoxModel",
            "_view_module": "@jupyter-widgets/controls",
            "_model_module_version": "1.5.0",
            "_view_count": null,
            "_view_module_version": "1.5.0",
            "box_style": "",
            "layout": "IPY_MODEL_fe48c0c668874cdda0abf98eada0fa27",
            "_model_module": "@jupyter-widgets/controls",
            "children": [
              "IPY_MODEL_4376cb921e61409e86cbdcda512a4668",
              "IPY_MODEL_72c9e6fd19854ee2b3cbc58e9b298725",
              "IPY_MODEL_f659bac7529c41618df479dcb59ba1c7"
            ]
          }
        },
        "fe48c0c668874cdda0abf98eada0fa27": {
          "model_module": "@jupyter-widgets/base",
          "model_name": "LayoutModel",
          "model_module_version": "1.2.0",
          "state": {
            "_view_name": "LayoutView",
            "grid_template_rows": null,
            "right": null,
            "justify_content": null,
            "_view_module": "@jupyter-widgets/base",
            "overflow": null,
            "_model_module_version": "1.2.0",
            "_view_count": null,
            "flex_flow": null,
            "width": null,
            "min_width": null,
            "border": null,
            "align_items": null,
            "bottom": null,
            "_model_module": "@jupyter-widgets/base",
            "top": null,
            "grid_column": null,
            "overflow_y": null,
            "overflow_x": null,
            "grid_auto_flow": null,
            "grid_area": null,
            "grid_template_columns": null,
            "flex": null,
            "_model_name": "LayoutModel",
            "justify_items": null,
            "grid_row": null,
            "max_height": null,
            "align_content": null,
            "visibility": null,
            "align_self": null,
            "height": null,
            "min_height": null,
            "padding": null,
            "grid_auto_rows": null,
            "grid_gap": null,
            "max_width": null,
            "order": null,
            "_view_module_version": "1.2.0",
            "grid_template_areas": null,
            "object_position": null,
            "object_fit": null,
            "grid_auto_columns": null,
            "margin": null,
            "display": null,
            "left": null
          }
        },
        "4376cb921e61409e86cbdcda512a4668": {
          "model_module": "@jupyter-widgets/controls",
          "model_name": "HTMLModel",
          "model_module_version": "1.5.0",
          "state": {
            "_view_name": "HTMLView",
            "style": "IPY_MODEL_bd7b3245fc3640aba04f2643a7893215",
            "_dom_classes": [],
            "description": "",
            "_model_name": "HTMLModel",
            "placeholder": "​",
            "_view_module": "@jupyter-widgets/controls",
            "_model_module_version": "1.5.0",
            "value": "",
            "_view_count": null,
            "_view_module_version": "1.5.0",
            "description_tooltip": null,
            "_model_module": "@jupyter-widgets/controls",
            "layout": "IPY_MODEL_a2c0d3adf5ad43dab27b908a19d6b756"
          }
        },
        "72c9e6fd19854ee2b3cbc58e9b298725": {
          "model_module": "@jupyter-widgets/controls",
          "model_name": "FloatProgressModel",
          "model_module_version": "1.5.0",
          "state": {
            "_view_name": "ProgressView",
            "style": "IPY_MODEL_01d49b11d0644fcf9f2f6bd415a4b800",
            "_dom_classes": [],
            "description": "",
            "_model_name": "FloatProgressModel",
            "bar_style": "success",
            "max": 1648877,
            "_view_module": "@jupyter-widgets/controls",
            "_model_module_version": "1.5.0",
            "value": 1648877,
            "_view_count": null,
            "_view_module_version": "1.5.0",
            "orientation": "horizontal",
            "min": 0,
            "description_tooltip": null,
            "_model_module": "@jupyter-widgets/controls",
            "layout": "IPY_MODEL_b4a563115c264ac39b78abb849337739"
          }
        },
        "f659bac7529c41618df479dcb59ba1c7": {
          "model_module": "@jupyter-widgets/controls",
          "model_name": "HTMLModel",
          "model_module_version": "1.5.0",
          "state": {
            "_view_name": "HTMLView",
            "style": "IPY_MODEL_2795ef04dc404781ba688a6d8994ae73",
            "_dom_classes": [],
            "description": "",
            "_model_name": "HTMLModel",
            "placeholder": "​",
            "_view_module": "@jupyter-widgets/controls",
            "_model_module_version": "1.5.0",
            "value": " 1649664/? [00:00&lt;00:00, 19461244.02it/s]",
            "_view_count": null,
            "_view_module_version": "1.5.0",
            "description_tooltip": null,
            "_model_module": "@jupyter-widgets/controls",
            "layout": "IPY_MODEL_2a7547a4335d44c097c3d005080cd1c8"
          }
        },
        "bd7b3245fc3640aba04f2643a7893215": {
          "model_module": "@jupyter-widgets/controls",
          "model_name": "DescriptionStyleModel",
          "model_module_version": "1.5.0",
          "state": {
            "_view_name": "StyleView",
            "_model_name": "DescriptionStyleModel",
            "description_width": "",
            "_view_module": "@jupyter-widgets/base",
            "_model_module_version": "1.5.0",
            "_view_count": null,
            "_view_module_version": "1.2.0",
            "_model_module": "@jupyter-widgets/controls"
          }
        },
        "a2c0d3adf5ad43dab27b908a19d6b756": {
          "model_module": "@jupyter-widgets/base",
          "model_name": "LayoutModel",
          "model_module_version": "1.2.0",
          "state": {
            "_view_name": "LayoutView",
            "grid_template_rows": null,
            "right": null,
            "justify_content": null,
            "_view_module": "@jupyter-widgets/base",
            "overflow": null,
            "_model_module_version": "1.2.0",
            "_view_count": null,
            "flex_flow": null,
            "width": null,
            "min_width": null,
            "border": null,
            "align_items": null,
            "bottom": null,
            "_model_module": "@jupyter-widgets/base",
            "top": null,
            "grid_column": null,
            "overflow_y": null,
            "overflow_x": null,
            "grid_auto_flow": null,
            "grid_area": null,
            "grid_template_columns": null,
            "flex": null,
            "_model_name": "LayoutModel",
            "justify_items": null,
            "grid_row": null,
            "max_height": null,
            "align_content": null,
            "visibility": null,
            "align_self": null,
            "height": null,
            "min_height": null,
            "padding": null,
            "grid_auto_rows": null,
            "grid_gap": null,
            "max_width": null,
            "order": null,
            "_view_module_version": "1.2.0",
            "grid_template_areas": null,
            "object_position": null,
            "object_fit": null,
            "grid_auto_columns": null,
            "margin": null,
            "display": null,
            "left": null
          }
        },
        "01d49b11d0644fcf9f2f6bd415a4b800": {
          "model_module": "@jupyter-widgets/controls",
          "model_name": "ProgressStyleModel",
          "model_module_version": "1.5.0",
          "state": {
            "_view_name": "StyleView",
            "_model_name": "ProgressStyleModel",
            "description_width": "",
            "_view_module": "@jupyter-widgets/base",
            "_model_module_version": "1.5.0",
            "_view_count": null,
            "_view_module_version": "1.2.0",
            "bar_color": null,
            "_model_module": "@jupyter-widgets/controls"
          }
        },
        "b4a563115c264ac39b78abb849337739": {
          "model_module": "@jupyter-widgets/base",
          "model_name": "LayoutModel",
          "model_module_version": "1.2.0",
          "state": {
            "_view_name": "LayoutView",
            "grid_template_rows": null,
            "right": null,
            "justify_content": null,
            "_view_module": "@jupyter-widgets/base",
            "overflow": null,
            "_model_module_version": "1.2.0",
            "_view_count": null,
            "flex_flow": null,
            "width": null,
            "min_width": null,
            "border": null,
            "align_items": null,
            "bottom": null,
            "_model_module": "@jupyter-widgets/base",
            "top": null,
            "grid_column": null,
            "overflow_y": null,
            "overflow_x": null,
            "grid_auto_flow": null,
            "grid_area": null,
            "grid_template_columns": null,
            "flex": null,
            "_model_name": "LayoutModel",
            "justify_items": null,
            "grid_row": null,
            "max_height": null,
            "align_content": null,
            "visibility": null,
            "align_self": null,
            "height": null,
            "min_height": null,
            "padding": null,
            "grid_auto_rows": null,
            "grid_gap": null,
            "max_width": null,
            "order": null,
            "_view_module_version": "1.2.0",
            "grid_template_areas": null,
            "object_position": null,
            "object_fit": null,
            "grid_auto_columns": null,
            "margin": null,
            "display": null,
            "left": null
          }
        },
        "2795ef04dc404781ba688a6d8994ae73": {
          "model_module": "@jupyter-widgets/controls",
          "model_name": "DescriptionStyleModel",
          "model_module_version": "1.5.0",
          "state": {
            "_view_name": "StyleView",
            "_model_name": "DescriptionStyleModel",
            "description_width": "",
            "_view_module": "@jupyter-widgets/base",
            "_model_module_version": "1.5.0",
            "_view_count": null,
            "_view_module_version": "1.2.0",
            "_model_module": "@jupyter-widgets/controls"
          }
        },
        "2a7547a4335d44c097c3d005080cd1c8": {
          "model_module": "@jupyter-widgets/base",
          "model_name": "LayoutModel",
          "model_module_version": "1.2.0",
          "state": {
            "_view_name": "LayoutView",
            "grid_template_rows": null,
            "right": null,
            "justify_content": null,
            "_view_module": "@jupyter-widgets/base",
            "overflow": null,
            "_model_module_version": "1.2.0",
            "_view_count": null,
            "flex_flow": null,
            "width": null,
            "min_width": null,
            "border": null,
            "align_items": null,
            "bottom": null,
            "_model_module": "@jupyter-widgets/base",
            "top": null,
            "grid_column": null,
            "overflow_y": null,
            "overflow_x": null,
            "grid_auto_flow": null,
            "grid_area": null,
            "grid_template_columns": null,
            "flex": null,
            "_model_name": "LayoutModel",
            "justify_items": null,
            "grid_row": null,
            "max_height": null,
            "align_content": null,
            "visibility": null,
            "align_self": null,
            "height": null,
            "min_height": null,
            "padding": null,
            "grid_auto_rows": null,
            "grid_gap": null,
            "max_width": null,
            "order": null,
            "_view_module_version": "1.2.0",
            "grid_template_areas": null,
            "object_position": null,
            "object_fit": null,
            "grid_auto_columns": null,
            "margin": null,
            "display": null,
            "left": null
          }
        },
        "9688b7c9f20e44f5a81ee841e885f694": {
          "model_module": "@jupyter-widgets/controls",
          "model_name": "HBoxModel",
          "model_module_version": "1.5.0",
          "state": {
            "_view_name": "HBoxView",
            "_dom_classes": [],
            "_model_name": "HBoxModel",
            "_view_module": "@jupyter-widgets/controls",
            "_model_module_version": "1.5.0",
            "_view_count": null,
            "_view_module_version": "1.5.0",
            "box_style": "",
            "layout": "IPY_MODEL_f1c17dc151c2453f919d27fed5606553",
            "_model_module": "@jupyter-widgets/controls",
            "children": [
              "IPY_MODEL_6ac819e32f984e1d8044b592821ec9fb",
              "IPY_MODEL_d3f86998698243d9ae61a7d72d4ad0e9",
              "IPY_MODEL_e77a06b313314f70ac4df71d0803e1c3"
            ]
          }
        },
        "f1c17dc151c2453f919d27fed5606553": {
          "model_module": "@jupyter-widgets/base",
          "model_name": "LayoutModel",
          "model_module_version": "1.2.0",
          "state": {
            "_view_name": "LayoutView",
            "grid_template_rows": null,
            "right": null,
            "justify_content": null,
            "_view_module": "@jupyter-widgets/base",
            "overflow": null,
            "_model_module_version": "1.2.0",
            "_view_count": null,
            "flex_flow": null,
            "width": null,
            "min_width": null,
            "border": null,
            "align_items": null,
            "bottom": null,
            "_model_module": "@jupyter-widgets/base",
            "top": null,
            "grid_column": null,
            "overflow_y": null,
            "overflow_x": null,
            "grid_auto_flow": null,
            "grid_area": null,
            "grid_template_columns": null,
            "flex": null,
            "_model_name": "LayoutModel",
            "justify_items": null,
            "grid_row": null,
            "max_height": null,
            "align_content": null,
            "visibility": null,
            "align_self": null,
            "height": null,
            "min_height": null,
            "padding": null,
            "grid_auto_rows": null,
            "grid_gap": null,
            "max_width": null,
            "order": null,
            "_view_module_version": "1.2.0",
            "grid_template_areas": null,
            "object_position": null,
            "object_fit": null,
            "grid_auto_columns": null,
            "margin": null,
            "display": null,
            "left": null
          }
        },
        "6ac819e32f984e1d8044b592821ec9fb": {
          "model_module": "@jupyter-widgets/controls",
          "model_name": "HTMLModel",
          "model_module_version": "1.5.0",
          "state": {
            "_view_name": "HTMLView",
            "style": "IPY_MODEL_e3ea8ec502b744b29771f3eb8af0154c",
            "_dom_classes": [],
            "description": "",
            "_model_name": "HTMLModel",
            "placeholder": "​",
            "_view_module": "@jupyter-widgets/controls",
            "_model_module_version": "1.5.0",
            "value": "",
            "_view_count": null,
            "_view_module_version": "1.5.0",
            "description_tooltip": null,
            "_model_module": "@jupyter-widgets/controls",
            "layout": "IPY_MODEL_50cbe66721c14184bbe3d7045d206329"
          }
        },
        "d3f86998698243d9ae61a7d72d4ad0e9": {
          "model_module": "@jupyter-widgets/controls",
          "model_name": "FloatProgressModel",
          "model_module_version": "1.5.0",
          "state": {
            "_view_name": "ProgressView",
            "style": "IPY_MODEL_f28bb1e7e9974c64a07dc1ac49260d2c",
            "_dom_classes": [],
            "description": "",
            "_model_name": "FloatProgressModel",
            "bar_style": "success",
            "max": 4542,
            "_view_module": "@jupyter-widgets/controls",
            "_model_module_version": "1.5.0",
            "value": 4542,
            "_view_count": null,
            "_view_module_version": "1.5.0",
            "orientation": "horizontal",
            "min": 0,
            "description_tooltip": null,
            "_model_module": "@jupyter-widgets/controls",
            "layout": "IPY_MODEL_c97e469cea034dbca207e7c505d6cf39"
          }
        },
        "e77a06b313314f70ac4df71d0803e1c3": {
          "model_module": "@jupyter-widgets/controls",
          "model_name": "HTMLModel",
          "model_module_version": "1.5.0",
          "state": {
            "_view_name": "HTMLView",
            "style": "IPY_MODEL_fb218a9b601441f194eecbf81df63ded",
            "_dom_classes": [],
            "description": "",
            "_model_name": "HTMLModel",
            "placeholder": "​",
            "_view_module": "@jupyter-widgets/controls",
            "_model_module_version": "1.5.0",
            "value": " 5120/? [00:00&lt;00:00, 129545.19it/s]",
            "_view_count": null,
            "_view_module_version": "1.5.0",
            "description_tooltip": null,
            "_model_module": "@jupyter-widgets/controls",
            "layout": "IPY_MODEL_9512ab54f3a04bbdae4d233f43380d3c"
          }
        },
        "e3ea8ec502b744b29771f3eb8af0154c": {
          "model_module": "@jupyter-widgets/controls",
          "model_name": "DescriptionStyleModel",
          "model_module_version": "1.5.0",
          "state": {
            "_view_name": "StyleView",
            "_model_name": "DescriptionStyleModel",
            "description_width": "",
            "_view_module": "@jupyter-widgets/base",
            "_model_module_version": "1.5.0",
            "_view_count": null,
            "_view_module_version": "1.2.0",
            "_model_module": "@jupyter-widgets/controls"
          }
        },
        "50cbe66721c14184bbe3d7045d206329": {
          "model_module": "@jupyter-widgets/base",
          "model_name": "LayoutModel",
          "model_module_version": "1.2.0",
          "state": {
            "_view_name": "LayoutView",
            "grid_template_rows": null,
            "right": null,
            "justify_content": null,
            "_view_module": "@jupyter-widgets/base",
            "overflow": null,
            "_model_module_version": "1.2.0",
            "_view_count": null,
            "flex_flow": null,
            "width": null,
            "min_width": null,
            "border": null,
            "align_items": null,
            "bottom": null,
            "_model_module": "@jupyter-widgets/base",
            "top": null,
            "grid_column": null,
            "overflow_y": null,
            "overflow_x": null,
            "grid_auto_flow": null,
            "grid_area": null,
            "grid_template_columns": null,
            "flex": null,
            "_model_name": "LayoutModel",
            "justify_items": null,
            "grid_row": null,
            "max_height": null,
            "align_content": null,
            "visibility": null,
            "align_self": null,
            "height": null,
            "min_height": null,
            "padding": null,
            "grid_auto_rows": null,
            "grid_gap": null,
            "max_width": null,
            "order": null,
            "_view_module_version": "1.2.0",
            "grid_template_areas": null,
            "object_position": null,
            "object_fit": null,
            "grid_auto_columns": null,
            "margin": null,
            "display": null,
            "left": null
          }
        },
        "f28bb1e7e9974c64a07dc1ac49260d2c": {
          "model_module": "@jupyter-widgets/controls",
          "model_name": "ProgressStyleModel",
          "model_module_version": "1.5.0",
          "state": {
            "_view_name": "StyleView",
            "_model_name": "ProgressStyleModel",
            "description_width": "",
            "_view_module": "@jupyter-widgets/base",
            "_model_module_version": "1.5.0",
            "_view_count": null,
            "_view_module_version": "1.2.0",
            "bar_color": null,
            "_model_module": "@jupyter-widgets/controls"
          }
        },
        "c97e469cea034dbca207e7c505d6cf39": {
          "model_module": "@jupyter-widgets/base",
          "model_name": "LayoutModel",
          "model_module_version": "1.2.0",
          "state": {
            "_view_name": "LayoutView",
            "grid_template_rows": null,
            "right": null,
            "justify_content": null,
            "_view_module": "@jupyter-widgets/base",
            "overflow": null,
            "_model_module_version": "1.2.0",
            "_view_count": null,
            "flex_flow": null,
            "width": null,
            "min_width": null,
            "border": null,
            "align_items": null,
            "bottom": null,
            "_model_module": "@jupyter-widgets/base",
            "top": null,
            "grid_column": null,
            "overflow_y": null,
            "overflow_x": null,
            "grid_auto_flow": null,
            "grid_area": null,
            "grid_template_columns": null,
            "flex": null,
            "_model_name": "LayoutModel",
            "justify_items": null,
            "grid_row": null,
            "max_height": null,
            "align_content": null,
            "visibility": null,
            "align_self": null,
            "height": null,
            "min_height": null,
            "padding": null,
            "grid_auto_rows": null,
            "grid_gap": null,
            "max_width": null,
            "order": null,
            "_view_module_version": "1.2.0",
            "grid_template_areas": null,
            "object_position": null,
            "object_fit": null,
            "grid_auto_columns": null,
            "margin": null,
            "display": null,
            "left": null
          }
        },
        "fb218a9b601441f194eecbf81df63ded": {
          "model_module": "@jupyter-widgets/controls",
          "model_name": "DescriptionStyleModel",
          "model_module_version": "1.5.0",
          "state": {
            "_view_name": "StyleView",
            "_model_name": "DescriptionStyleModel",
            "description_width": "",
            "_view_module": "@jupyter-widgets/base",
            "_model_module_version": "1.5.0",
            "_view_count": null,
            "_view_module_version": "1.2.0",
            "_model_module": "@jupyter-widgets/controls"
          }
        },
        "9512ab54f3a04bbdae4d233f43380d3c": {
          "model_module": "@jupyter-widgets/base",
          "model_name": "LayoutModel",
          "model_module_version": "1.2.0",
          "state": {
            "_view_name": "LayoutView",
            "grid_template_rows": null,
            "right": null,
            "justify_content": null,
            "_view_module": "@jupyter-widgets/base",
            "overflow": null,
            "_model_module_version": "1.2.0",
            "_view_count": null,
            "flex_flow": null,
            "width": null,
            "min_width": null,
            "border": null,
            "align_items": null,
            "bottom": null,
            "_model_module": "@jupyter-widgets/base",
            "top": null,
            "grid_column": null,
            "overflow_y": null,
            "overflow_x": null,
            "grid_auto_flow": null,
            "grid_area": null,
            "grid_template_columns": null,
            "flex": null,
            "_model_name": "LayoutModel",
            "justify_items": null,
            "grid_row": null,
            "max_height": null,
            "align_content": null,
            "visibility": null,
            "align_self": null,
            "height": null,
            "min_height": null,
            "padding": null,
            "grid_auto_rows": null,
            "grid_gap": null,
            "max_width": null,
            "order": null,
            "_view_module_version": "1.2.0",
            "grid_template_areas": null,
            "object_position": null,
            "object_fit": null,
            "grid_auto_columns": null,
            "margin": null,
            "display": null,
            "left": null
          }
        }
      }
    }
  },
  "cells": [
    {
      "cell_type": "markdown",
      "source": [
        "Рассмотрим Conv2d слой с out_channel=3, kernel_size=2, stride=1, padding = 0, dilation=1. Пусть вход в него имеет размеры (2,2,3,3), где 2 – размер батча, 2 – число каналов, 3х3 – размеры изображения.\n",
        "1. Какой будет размер на выходе?\n",
        "2. Пусть одна из картинок на входе ( [10_7, 5_7, 5_9], [5_8,5_6,0_6], [1_2,0_2,1_8]), а веса фильтра с out_channels = 2: ([ 1,0], [0,1], [1,1], …)\n",
        "Что будет на выходе?\n",
        "3. То же самое, но padding = 1\n",
        "\n",
        "Лог.регрессия"
      ],
      "metadata": {
        "id": "nKEAe7W7f6QH"
      }
    },
    {
      "cell_type": "code",
      "execution_count": 1,
      "metadata": {
        "colab": {
          "base_uri": "https://localhost:8080/"
        },
        "id": "tDKvm9yMfgrg",
        "outputId": "b1dcc258-7c8f-43ce-d4d5-c91b3af6c356"
      },
      "outputs": [
        {
          "output_type": "stream",
          "name": "stdout",
          "text": [
            "Requirement already satisfied: torch in /usr/local/lib/python3.7/dist-packages (1.10.0+cu111)\n",
            "Requirement already satisfied: torchvision in /usr/local/lib/python3.7/dist-packages (0.11.1+cu111)\n",
            "Requirement already satisfied: typing-extensions in /usr/local/lib/python3.7/dist-packages (from torch) (3.10.0.2)\n",
            "Requirement already satisfied: numpy in /usr/local/lib/python3.7/dist-packages (from torchvision) (1.19.5)\n",
            "Requirement already satisfied: pillow!=8.3.0,>=5.3.0 in /usr/local/lib/python3.7/dist-packages (from torchvision) (7.1.2)\n"
          ]
        }
      ],
      "source": [
        "!pip3 install torch torchvision"
      ]
    },
    {
      "cell_type": "code",
      "source": [
        "import torch\n",
        "\n",
        "DEVICE = 'cuda' if torch.cuda.is_available() else 'cpu'\n",
        "print('Using', DEVICE)"
      ],
      "metadata": {
        "colab": {
          "base_uri": "https://localhost:8080/"
        },
        "id": "X8a-9m7HfqoV",
        "outputId": "a2bc8c86-06a8-49eb-e471-9612444892c9"
      },
      "execution_count": 2,
      "outputs": [
        {
          "output_type": "stream",
          "name": "stdout",
          "text": [
            "Using cpu\n"
          ]
        }
      ]
    },
    {
      "cell_type": "code",
      "source": [
        "import torch.nn as nn\n",
        "\n",
        "simple_conv = nn.Conv2d(in_channels=2, out_channels=2, kernel_size=2)\n",
        "\n",
        "ex = torch.tensor([\n",
        "    [[10, 7], [5, 7], [5, 9]],\n",
        "    [[5, 8], [5, 6], [0, 6]],\n",
        "    [[1, 2], [0, 2], [1, 8]]\n",
        "    ], dtype=torch.float)\n",
        "\n",
        "weight = torch.tensor(\n",
        "    [\n",
        "     [\n",
        "        [[1, 0], [0, 1]],\n",
        "        [[0, 1], [1, 1]]\n",
        "      ],\n",
        "     \n",
        "     [\n",
        "        [[0, 1], [1, 1]],\n",
        "        [[1, 0], [0, 0]]\n",
        "      ],\n",
        "    ], dtype=torch.float\n",
        "    ).permute(2, 3, 0, 1)\n",
        "\n",
        "ex = ex.unsqueeze(0).permute(0, 3, 1, 2)\n",
        "\n",
        "simple_conv.bias.data = torch.zeros(2)\n",
        "simple_conv.weight.data = weight\n",
        "\n",
        "simple_conv(ex).permute(0, 2, 3, 1)\n"
      ],
      "metadata": {
        "colab": {
          "base_uri": "https://localhost:8080/"
        },
        "id": "WDfoa_ywfxVl",
        "outputId": "a0bcd386-63aa-4df1-ac07-1c72a78ac850"
      },
      "execution_count": 3,
      "outputs": [
        {
          "output_type": "execute_result",
          "data": {
            "text/plain": [
              "tensor([[[[30., 32.],\n",
              "          [20., 32.]],\n",
              "\n",
              "         [[13., 22.],\n",
              "          [14., 14.]]]], grad_fn=<PermuteBackward0>)"
            ]
          },
          "metadata": {},
          "execution_count": 3
        }
      ]
    },
    {
      "cell_type": "code",
      "source": [
        "import torchvision.datasets as datasets\n",
        "import torchvision.transforms as transforms\n",
        "\n",
        "# Выбераем аугментации\n",
        "# transforms - что необходимо сделать с картинкой перед тем,\n",
        "#   как передать ее в батч\n",
        "train_trans = transforms.Compose([\n",
        "                                   transforms.RandomCrop(28, padding=4), # padding=4 - оградили четыремя нулями по бокам, затем случайно вырезали из нее картику 28х28\n",
        "                                   transforms.ToTensor(), # преобразует картинку в torch для pytorch\n",
        "                                   transforms.Normalize((0.1307, ), (0.3081,)) # 1 число - средняя яркость пикселей в MNIST, \n",
        "                                  # 2 число - среднее std, т.е. отклонение по MNIST от этого среднего\n",
        "                                  # нормальное отклонение равно 1\n",
        "])\n",
        "\n",
        "test_trans = transforms.Compose([\n",
        "                                   transforms.Resize(28),\n",
        "                                   transforms.ToTensor(),\n",
        "                                   transforms.Normalize((0.1307, ), (0.3081,))\n",
        "])\n",
        "\n",
        "# Загружаем данные\n",
        "dataset = datasets.MNIST(root='drive/temp', download=True, \n",
        "                         transform=train_trans)\n",
        "test_data = datasets.MNIST(root='drive/temp', download=True, train = False,\n",
        "                         transform=test_trans)\n"
      ],
      "metadata": {
        "id": "QzlOROgogoua",
        "colab": {
          "base_uri": "https://localhost:8080/",
          "height": 457,
          "referenced_widgets": [
            "a04f351dfad446ceaa80f5705ff79493",
            "651a76ea2823464f976c02e2ae370f5a",
            "6a81586fa36843239be4a6a9a8512336",
            "dc66fa7c80d04dc591dd4199455646cb",
            "c385af4e55ea4c41a406313d543be15e",
            "05b86370e71a46d0b9deb0cde4360c3d",
            "a3df648b7c92436f8203c7e4508885bd",
            "2d8d73b849b1466783ba590eaaf046b1",
            "b82aa9f2e9204436900cb07e1d6102be",
            "65165b3efac3478e8db8a5538fbfa379",
            "7f01293c15e3445b9c736329e9d5e163",
            "ccc1fdf761084fddafea535bb90c2c0c",
            "edd6dd4c85054596b309f69e095021e3",
            "a20f0f4553f34c8794c5a5bfc86ef88b",
            "1e8e8f45f1624b35be112bb11bc98927",
            "1b6dd32408b9490eaee540ff4d08ae9a",
            "4841fe20ffca49fbb72c34b8bd2de5c4",
            "9036e3d068ca428baca21bb972aa40c7",
            "ab0ed8d42d6a43549f5b2f96026d358d",
            "a5debeeee9304f458750e28d009bfd6d",
            "62887032469e426087869fa99329eb5f",
            "ea9c85ff72b24b389d91a9123fcbec73",
            "53e808365e044f71bd4cb0b01763ca31",
            "fe48c0c668874cdda0abf98eada0fa27",
            "4376cb921e61409e86cbdcda512a4668",
            "72c9e6fd19854ee2b3cbc58e9b298725",
            "f659bac7529c41618df479dcb59ba1c7",
            "bd7b3245fc3640aba04f2643a7893215",
            "a2c0d3adf5ad43dab27b908a19d6b756",
            "01d49b11d0644fcf9f2f6bd415a4b800",
            "b4a563115c264ac39b78abb849337739",
            "2795ef04dc404781ba688a6d8994ae73",
            "2a7547a4335d44c097c3d005080cd1c8",
            "9688b7c9f20e44f5a81ee841e885f694",
            "f1c17dc151c2453f919d27fed5606553",
            "6ac819e32f984e1d8044b592821ec9fb",
            "d3f86998698243d9ae61a7d72d4ad0e9",
            "e77a06b313314f70ac4df71d0803e1c3",
            "e3ea8ec502b744b29771f3eb8af0154c",
            "50cbe66721c14184bbe3d7045d206329",
            "f28bb1e7e9974c64a07dc1ac49260d2c",
            "c97e469cea034dbca207e7c505d6cf39",
            "fb218a9b601441f194eecbf81df63ded",
            "9512ab54f3a04bbdae4d233f43380d3c"
          ]
        },
        "outputId": "6d75f7a3-1377-4fad-b874-f3de67c87863"
      },
      "execution_count": 4,
      "outputs": [
        {
          "output_type": "stream",
          "name": "stdout",
          "text": [
            "Downloading http://yann.lecun.com/exdb/mnist/train-images-idx3-ubyte.gz\n",
            "Downloading http://yann.lecun.com/exdb/mnist/train-images-idx3-ubyte.gz to drive/temp/MNIST/raw/train-images-idx3-ubyte.gz\n"
          ]
        },
        {
          "output_type": "display_data",
          "data": {
            "application/vnd.jupyter.widget-view+json": {
              "model_id": "a04f351dfad446ceaa80f5705ff79493",
              "version_minor": 0,
              "version_major": 2
            },
            "text/plain": [
              "  0%|          | 0/9912422 [00:00<?, ?it/s]"
            ]
          },
          "metadata": {}
        },
        {
          "output_type": "stream",
          "name": "stdout",
          "text": [
            "Extracting drive/temp/MNIST/raw/train-images-idx3-ubyte.gz to drive/temp/MNIST/raw\n",
            "\n",
            "Downloading http://yann.lecun.com/exdb/mnist/train-labels-idx1-ubyte.gz\n",
            "Downloading http://yann.lecun.com/exdb/mnist/train-labels-idx1-ubyte.gz to drive/temp/MNIST/raw/train-labels-idx1-ubyte.gz\n"
          ]
        },
        {
          "output_type": "display_data",
          "data": {
            "application/vnd.jupyter.widget-view+json": {
              "model_id": "ccc1fdf761084fddafea535bb90c2c0c",
              "version_minor": 0,
              "version_major": 2
            },
            "text/plain": [
              "  0%|          | 0/28881 [00:00<?, ?it/s]"
            ]
          },
          "metadata": {}
        },
        {
          "output_type": "stream",
          "name": "stdout",
          "text": [
            "Extracting drive/temp/MNIST/raw/train-labels-idx1-ubyte.gz to drive/temp/MNIST/raw\n",
            "\n",
            "Downloading http://yann.lecun.com/exdb/mnist/t10k-images-idx3-ubyte.gz\n",
            "Downloading http://yann.lecun.com/exdb/mnist/t10k-images-idx3-ubyte.gz to drive/temp/MNIST/raw/t10k-images-idx3-ubyte.gz\n"
          ]
        },
        {
          "output_type": "display_data",
          "data": {
            "application/vnd.jupyter.widget-view+json": {
              "model_id": "53e808365e044f71bd4cb0b01763ca31",
              "version_minor": 0,
              "version_major": 2
            },
            "text/plain": [
              "  0%|          | 0/1648877 [00:00<?, ?it/s]"
            ]
          },
          "metadata": {}
        },
        {
          "output_type": "stream",
          "name": "stdout",
          "text": [
            "Extracting drive/temp/MNIST/raw/t10k-images-idx3-ubyte.gz to drive/temp/MNIST/raw\n",
            "\n",
            "Downloading http://yann.lecun.com/exdb/mnist/t10k-labels-idx1-ubyte.gz\n",
            "Downloading http://yann.lecun.com/exdb/mnist/t10k-labels-idx1-ubyte.gz to drive/temp/MNIST/raw/t10k-labels-idx1-ubyte.gz\n"
          ]
        },
        {
          "output_type": "display_data",
          "data": {
            "application/vnd.jupyter.widget-view+json": {
              "model_id": "9688b7c9f20e44f5a81ee841e885f694",
              "version_minor": 0,
              "version_major": 2
            },
            "text/plain": [
              "  0%|          | 0/4542 [00:00<?, ?it/s]"
            ]
          },
          "metadata": {}
        },
        {
          "output_type": "stream",
          "name": "stdout",
          "text": [
            "Extracting drive/temp/MNIST/raw/t10k-labels-idx1-ubyte.gz to drive/temp/MNIST/raw\n",
            "\n"
          ]
        }
      ]
    },
    {
      "cell_type": "code",
      "source": [
        "datasets.MNIST?"
      ],
      "metadata": {
        "id": "RCfiSwvUjpZE"
      },
      "execution_count": 5,
      "outputs": []
    },
    {
      "cell_type": "code",
      "source": [
        "# Проверяем разметку\n",
        "import matplotlib.pyplot as plt\n",
        "import random\n",
        "\n",
        "plt.figure(figsize=(20, 10))\n",
        "\n",
        "for i in range(10):\n",
        "  r_ind = random.randint(0, len(dataset) - 1)\n",
        "  plt.subplot(1, 10, i+1)\n",
        "  plt.title(dataset.train_labels[r_ind].numpy())\n",
        "  plt.imshow(dataset.train_data[r_ind])\n",
        "  plt.axis('off')\n",
        "plt.show()"
      ],
      "metadata": {
        "colab": {
          "base_uri": "https://localhost:8080/",
          "height": 204
        },
        "id": "DURZtv8gjsZ8",
        "outputId": "dc2d542c-6012-4c09-9389-31aa5192ba16"
      },
      "execution_count": 6,
      "outputs": [
        {
          "output_type": "stream",
          "name": "stderr",
          "text": [
            "/usr/local/lib/python3.7/dist-packages/torchvision/datasets/mnist.py:52: UserWarning: train_labels has been renamed targets\n",
            "  warnings.warn(\"train_labels has been renamed targets\")\n",
            "/usr/local/lib/python3.7/dist-packages/torchvision/datasets/mnist.py:62: UserWarning: train_data has been renamed data\n",
            "  warnings.warn(\"train_data has been renamed data\")\n"
          ]
        },
        {
          "output_type": "display_data",
          "data": {
            "image/png": "[encoded data removed]",
            "text/plain": [
              "<Figure size 1440x720 with 10 Axes>"
            ]
          },
          "metadata": {
            "needs_background": "light"
          }
        }
      ]
    },
    {
      "cell_type": "code",
      "source": [
        "# Создаем генераторы батчей\n",
        "# Делаем итерируемость с помощью цикла for, для этого делаем генератор\n",
        "# Подаем dataset, размер, флаг shuffle чтобы изображения в перемешку, num_workers - сколько ядер нужно распараллелить для вычислений\n",
        "from torch.utils.data import DataLoader\n",
        "\n",
        "train_loader = DataLoader(dataset, batch_size=256, num_workers=4, shuffle=True) \n",
        "test_loader = DataLoader(test_data, batch_size=256, num_workers=4)"
      ],
      "metadata": {
        "colab": {
          "base_uri": "https://localhost:8080/"
        },
        "id": "EvQ2g1Hsk3nU",
        "outputId": "6cb5debc-4867-4f98-8870-785944b36429"
      },
      "execution_count": 7,
      "outputs": [
        {
          "output_type": "stream",
          "name": "stderr",
          "text": [
            "/usr/local/lib/python3.7/dist-packages/torch/utils/data/dataloader.py:481: UserWarning: This DataLoader will create 4 worker processes in total. Our suggested max number of worker in current system is 2, which is smaller than what this DataLoader is going to create. Please be aware that excessive worker creation might get DataLoader running slow or even freeze, lower the worker number to avoid potential slowness/freeze if necessary.\n",
            "  cpuset_checked))\n"
          ]
        }
      ]
    },
    {
      "cell_type": "code",
      "source": [
        "ex = train_loader.dataset[10][0]\n",
        "\n",
        "ex.shape, torch.mean(ex), torch.std(ex) # среднее и отклонение"
      ],
      "metadata": {
        "colab": {
          "base_uri": "https://localhost:8080/"
        },
        "id": "a2cY_eDLp6xI",
        "outputId": "f0736df8-1006-4787-9f0e-b5feea74816d"
      },
      "execution_count": 8,
      "outputs": [
        {
          "output_type": "execute_result",
          "data": {
            "text/plain": [
              "(torch.Size([1, 28, 28]), tensor(0.0393), tensor(1.0524))"
            ]
          },
          "metadata": {},
          "execution_count": 8
        }
      ]
    },
    {
      "cell_type": "code",
      "source": [
        "train_loader?"
      ],
      "metadata": {
        "id": "eKrDSmaFqHHl"
      },
      "execution_count": 9,
      "outputs": []
    },
    {
      "cell_type": "code",
      "source": [
        "len(train_loader), len(train_loader.dataset) "
      ],
      "metadata": {
        "colab": {
          "base_uri": "https://localhost:8080/"
        },
        "id": "ilyuVpMMqI7z",
        "outputId": "6b9404be-668c-4636-dd96-7ad307634b16"
      },
      "execution_count": 10,
      "outputs": [
        {
          "output_type": "execute_result",
          "data": {
            "text/plain": [
              "(235, 60000)"
            ]
          },
          "metadata": {},
          "execution_count": 10
        }
      ]
    },
    {
      "cell_type": "code",
      "source": [
        "# Пишем классификатор\n",
        "\n",
        "import torch.nn as nn\n",
        "\n",
        "class DummyClassifier(nn.Module):\n",
        "\n",
        "  def _init_weights(self):\n",
        "    nn.init.normal_(self.classifier.weight, 0, 1e-3)\n",
        "    nn.init.constant_(self.classifier.bias, 0)\n",
        "      \n",
        "  def __init__(self, num_classes=10, init_weights=True):\n",
        "    super(DummyClassifier, self).__init__()\n",
        "    self.classifier = nn.Linear(28*28*1, num_classes) # переводит размерность 28*28*1 в размер входной картинки, в данном случае 10\n",
        "    if init_weights:\n",
        "      self._init_weights()\n",
        "      \n",
        "  def forward(self, x):\n",
        "    x = x.view(x.size(0), -1) # пока не пишем сигмойды. Когда х подается на вход, то изначальная размерность у него (228, 1, 28, 28)\n",
        "    # 1 - количество каналов, 28 и 28 - размер картинки, 228 - размер батча. Данный вход превращаем в Tenso с размерами (228, 28*28*1), \n",
        "    # Это и делаем строчкой x = x.view(x.size(0), -1)\n",
        "    return self.classifier(x)\n",
        "    '''\n",
        "    def _init_weights(self):\n",
        "      nn.init.normal_(self.classifier.weight, 0, 1e-3)\n",
        "      nn.init.constant_(self.classifier.bias, 0)\n",
        "    '''\n",
        "\n",
        "    \n",
        "linear_model = DummyClassifier().to(DEVICE)\n",
        "\n",
        "\n",
        "# Кросс-энтропия\n",
        "# nn.CrossEntropyLoss:\n",
        "# p = (p0,...., pc) ; y = (0, 1, ...0) - у - это правильные предсказания, в случае с Мистом для какой-то конкретной картинки\n",
        "# единица - это вероятность именного этого класса, ноль - вероятность любого другого класса\n",
        "# Мы подгоняем полученный вектор вероятности к правильному настоящему y.\n",
        "\n",
        "# Эти вектора - вектора вероятностей. У них есть свойство, что их сумма (покоординатно) дает 1\n",
        "# Это называется NLL\n",
        "# Он считается следующим образом: - сумма от 0 до С: Е yi log(p1) -> min\n",
        "# Он усредняется по батчу\n"
      ],
      "metadata": {
        "id": "o2eGETLKrBAp"
      },
      "execution_count": 19,
      "outputs": []
    },
    {
      "cell_type": "code",
      "source": [
        "# Выбираем loss и optimizer\n",
        "import torch.optim as optim\n",
        "\n",
        "criterion = nn.CrossEntropyLoss()\n",
        "optimizer = optim.SGD(linear_model.parameters(), lr=1e-2, momentum=0.8)"
      ],
      "metadata": {
        "id": "wuvwU52Uv-lE"
      },
      "execution_count": 20,
      "outputs": []
    },
    {
      "cell_type": "code",
      "source": [
        "# Учим модель\n",
        "from tqdm import tqdm \n",
        "\n",
        "reporter = tqdm(enumerate(train_loader, 0), total=len(train_loader))\n",
        "\n",
        "for i, data in reporter: # единичная итерация, что очень мало, надо использовать несколько эпох\n",
        "  inputs, targets = data[0].to(DEVICE), data[1].to(DEVICE) # батч, который выходит от train_loader это пара, 1 элемент - картинки, 2 - метки, таргеты\n",
        "  # print(data[0], data[1])\n",
        "  # Forward pass\n",
        "  predictions = linear_model(inputs) # делаем Forward\n",
        "  # Estimate predictions quality\n",
        "  loss = criterion(predictions, targets) # оценка нашего предсказания\n",
        "\n",
        "  # Backward pass\n",
        "  optimizer.zero_grad() # Делаем zero_grad, иначе optimizer сохранит тот loss, который остался в предыдущей итерации, т.е. градиенты будут накапливаться\n",
        "  loss.backward() # делаем Backward\n",
        "\n",
        "  optimizer.step()\n",
        "\n",
        "  if i % 50 == 0:\n",
        "    cur_loss = loss.item()\n",
        "    reporter.set_description('loss %.2f'%cur_loss)\n"
      ],
      "metadata": {
        "colab": {
          "base_uri": "https://localhost:8080/"
        },
        "id": "FPkeMbngsbqu",
        "outputId": "29d77c97-553c-4423-e72a-88d212242e0f"
      },
      "execution_count": 21,
      "outputs": [
        {
          "output_type": "stream",
          "name": "stderr",
          "text": [
            "/usr/local/lib/python3.7/dist-packages/torch/utils/data/dataloader.py:481: UserWarning: This DataLoader will create 4 worker processes in total. Our suggested max number of worker in current system is 2, which is smaller than what this DataLoader is going to create. Please be aware that excessive worker creation might get DataLoader running slow or even freeze, lower the worker number to avoid potential slowness/freeze if necessary.\n",
            "  cpuset_checked))\n",
            "loss 1.58: 100%|██████████| 235/235 [00:13<00:00, 17.16it/s]\n"
          ]
        }
      ]
    },
    {
      "cell_type": "code",
      "source": [
        "# Проверяем качество модели\n",
        "\n",
        "reporter2 = tqdm(enumerate(test_loader), total=len(test_loader))\n",
        "\n",
        "total_examples = len(test_loader.dataset)\n",
        "num_matches = 0\n",
        "\n",
        "for i, data in reporter2:\n",
        "  with torch.no_grad(): \n",
        "    # no_grad - не сохраняет предыдущие градиенты, т.е. мы указываем,\n",
        "    # что дальше у нас нет обучения нейронной сети, не считаются ни Forward,\n",
        "    # ни Backward, а просто анализируется статистика нашей модели\n",
        "    # При анализе эпохи не нужны.\n",
        "    inputs, targets = data[0].to(DEVICE), data[1].to(DEVICE)\n",
        "\n",
        "    predictions = linear_model(inputs)\n",
        "\n",
        "    _, label_predictions = predictions.max(1)\n",
        "\n",
        "    num_matches += label_predictions.eq(targets).sum().item()\n",
        "\n",
        "print('\\nTest accuracy: %.2f%%'%(100.*num_matches/total_examples))"
      ],
      "metadata": {
        "id": "uWgYOC5YCadJ",
        "colab": {
          "base_uri": "https://localhost:8080/"
        },
        "outputId": "0f1bf5f8-88e9-4421-dca7-47a01ee3a9fe"
      },
      "execution_count": 22,
      "outputs": [
        {
          "output_type": "stream",
          "name": "stderr",
          "text": [
            "/usr/local/lib/python3.7/dist-packages/torch/utils/data/dataloader.py:481: UserWarning: This DataLoader will create 4 worker processes in total. Our suggested max number of worker in current system is 2, which is smaller than what this DataLoader is going to create. Please be aware that excessive worker creation might get DataLoader running slow or even freeze, lower the worker number to avoid potential slowness/freeze if necessary.\n",
            "  cpuset_checked))\n",
            "100%|██████████| 40/40 [00:02<00:00, 19.63it/s]"
          ]
        },
        {
          "output_type": "stream",
          "name": "stdout",
          "text": [
            "\n",
            "Test accuracy: 66.49%\n"
          ]
        },
        {
          "output_type": "stream",
          "name": "stderr",
          "text": [
            "\n"
          ]
        }
      ]
    },
    {
      "cell_type": "markdown",
      "source": [
        "Test accuracy: 66.49%\n",
        "\n",
        "Почему качество линейной модели такое низкое? Как это исправить?\n",
        "\n"
      ],
      "metadata": {
        "id": "P-VgULxJVdfO"
      }
    },
    {
      "cell_type": "markdown",
      "source": [
        "4. Сверточная сеть"
      ],
      "metadata": {
        "id": "VJCnMG5PWk_E"
      }
    },
    {
      "cell_type": "code",
      "source": [
        "nn.Conv2d?"
      ],
      "metadata": {
        "id": "sDPtdbj1TMFc"
      },
      "execution_count": 23,
      "outputs": []
    },
    {
      "cell_type": "code",
      "source": [
        "nn.AvgPool2d?"
      ],
      "metadata": {
        "id": "cgpqscUXW3oy"
      },
      "execution_count": 24,
      "outputs": []
    },
    {
      "cell_type": "code",
      "source": [
        "class LeNet3(nn.Module):\n",
        "  def __init__(self, num_classes=10, init_weights=True):\n",
        "    super(LeNet3, self).__init__()\n",
        "\n",
        "    self.conv1 = nn.Conv2d(in_channels=1, out_channels=10, kernel_size=8) # out_channels - число выходных каналов и число фильтров, \n",
        "    #  есть еще groups: если groups = 1, или если groups равен числу фильтров.\n",
        "    self.pool1 = nn.AvgPool2d(kernel_size=2, stride=2)\n",
        "    self.relu = nn.ReLU()\n",
        "    # x имеет размерность (228, 1, 28, 28). Изменилась размерность на (228, 10, 21, 21), т.к. крайние точки мы убрали (они не могут быть центрами фильтра)\n",
        "    # итоговая размерность (228, 10, 10, 10) \n",
        "    \n",
        "    self.clf1 = nn.Linear(10*10*10, 128)\n",
        "    self.clf2 = nn.Linear(128, 10)\n",
        "\n",
        "    if init_weights:\n",
        "      self._init_weights()\n",
        "    \n",
        "  def forward(self, x):\n",
        "    x = self.relu(self.conv1(x)) # Обязательно требуется активация (relu)\n",
        "    x = self.relu(self.pool1(x))\n",
        "\n",
        "    x = x.view(x.size(0), -1)\n",
        "\n",
        "    x = self.relu(self.clf1(x))\n",
        "    x = self.clf2(x)\n",
        "\n",
        "    return x\n",
        "\n",
        "  def _init_weights(self):\n",
        "    for m in self.modules():\n",
        "      if isinstance(m, nn.Linear):\n",
        "        nn.init.normal_(m.weight, 0, 1e-2)\n",
        "        nn.init.constant_(m.bias, 0)\n",
        "      elif isinstance(m, nn.Conv2d):\n",
        "\n",
        "        nn.init.kaiming_uniform_(m.weight, nonlinearity='relu')\n",
        "        nn.init.constant_(m.bias, 0)\n",
        "\n",
        "\n",
        "conv_model1 = LeNet3().to(DEVICE)\n"
      ],
      "metadata": {
        "id": "IUEUUj4QW504"
      },
      "execution_count": 56,
      "outputs": []
    },
    {
      "cell_type": "code",
      "source": [
        "ex = torch.randn(2, 1, 28, 28).to(DEVICE)\n",
        "conv_model(ex).shape"
      ],
      "metadata": {
        "colab": {
          "base_uri": "https://localhost:8080/"
        },
        "id": "_o0yTAjPjplh",
        "outputId": "470a5ff8-6126-4502-863b-ce6454da9fba"
      },
      "execution_count": 57,
      "outputs": [
        {
          "output_type": "execute_result",
          "data": {
            "text/plain": [
              "torch.Size([2, 10])"
            ]
          },
          "metadata": {},
          "execution_count": 57
        }
      ]
    },
    {
      "cell_type": "code",
      "source": [
        "conv_model1?"
      ],
      "metadata": {
        "id": "yAI3baDRoH6O"
      },
      "execution_count": 60,
      "outputs": []
    },
    {
      "cell_type": "markdown",
      "source": [
        "torch.Size([2, 10]) - т.е. для двух элементов батчей по 10 предсказаний\n"
      ],
      "metadata": {
        "id": "kC2f3Xewj34_"
      }
    },
    {
      "cell_type": "code",
      "source": [
        "optimizer = optim.SGD(conv_model1.parameters(), lr=1e-2, momentum=0.8)\n",
        "\n",
        "# Учим модель\n",
        "from tqdm import tqdm \n",
        "\n",
        "reporter = tqdm(enumerate(train_loader, 0), total=len(train_loader))\n",
        "\n",
        "for i, data in reporter: # единичная итерация, что очень мало, надо использовать несколько эпох\n",
        "  inputs, targets = data[0].to(DEVICE), data[1].to(DEVICE) # батч, который выходит от train_loader это пара, 1 элемент - картинки, 2 - метки, таргеты\n",
        "  # print(data[0], data[1])\n",
        "  # Forward pass\n",
        "  predictions = conv_model1(inputs) # делаем Forward\n",
        "  # Estimate predictions quality\n",
        "  loss = criterion(predictions, targets) # оценка нашего предсказания\n",
        "\n",
        "  # Backward pass\n",
        "  optimizer.zero_grad() # Делаем zero_grad, иначе optimizer сохранит тот loss, который остался в предыдущей итерации, т.е. градиенты будут накапливаться\n",
        "  loss.backward() # делаем Backward\n",
        "\n",
        "  optimizer.step()\n",
        "\n",
        "  if i % 50 == 0:\n",
        "    cur_loss = loss.item()\n",
        "    reporter.set_description('loss %.2f'%cur_loss)"
      ],
      "metadata": {
        "colab": {
          "base_uri": "https://localhost:8080/"
        },
        "id": "q88HR3ujkGgX",
        "outputId": "62809498-a313-407d-da7a-1cf97650ddd8"
      },
      "execution_count": 63,
      "outputs": [
        {
          "output_type": "stream",
          "name": "stderr",
          "text": [
            "/usr/local/lib/python3.7/dist-packages/torch/utils/data/dataloader.py:481: UserWarning: This DataLoader will create 4 worker processes in total. Our suggested max number of worker in current system is 2, which is smaller than what this DataLoader is going to create. Please be aware that excessive worker creation might get DataLoader running slow or even freeze, lower the worker number to avoid potential slowness/freeze if necessary.\n",
            "  cpuset_checked))\n",
            "loss 0.71: 100%|██████████| 235/235 [00:29<00:00,  8.05it/s]\n"
          ]
        }
      ]
    },
    {
      "cell_type": "code",
      "source": [
        "# Проверяем качество модели\n",
        "\n",
        "reporter2 = tqdm(enumerate(test_loader), total=len(test_loader))\n",
        "\n",
        "total_examples = len(test_loader.dataset)\n",
        "num_matches = 0\n",
        "\n",
        "for i, data in reporter2:\n",
        "  with torch.no_grad(): \n",
        "    # no_grad - не сохраняет предыдущие градиенты, т.е. мы указываем,\n",
        "    # что дальше у нас нет обучения нейронной сети, не считаются ни Forward,\n",
        "    # ни Backward, а просто анализируется статистика нашей модели\n",
        "    # При анализе эпохи не нужны.\n",
        "    inputs, targets = data[0].to(DEVICE), data[1].to(DEVICE)\n",
        "\n",
        "    predictions = conv_model1(inputs) # даем на вход нашей модели inputs\n",
        "\n",
        "    _, label_predictions = predictions.max(1)\n",
        "\n",
        "    num_matches += label_predictions.eq(targets).sum().item()\n",
        "\n",
        "print('\\nTest accuracy: %.2f%%'%(100.*num_matches/total_examples))"
      ],
      "metadata": {
        "colab": {
          "base_uri": "https://localhost:8080/"
        },
        "id": "NSaVnyijkYfe",
        "outputId": "96ae73d8-ceb2-4389-d14b-9bcf8b5f2d83"
      },
      "execution_count": 66,
      "outputs": [
        {
          "output_type": "stream",
          "name": "stderr",
          "text": [
            "/usr/local/lib/python3.7/dist-packages/torch/utils/data/dataloader.py:481: UserWarning: This DataLoader will create 4 worker processes in total. Our suggested max number of worker in current system is 2, which is smaller than what this DataLoader is going to create. Please be aware that excessive worker creation might get DataLoader running slow or even freeze, lower the worker number to avoid potential slowness/freeze if necessary.\n",
            "  cpuset_checked))\n",
            "100%|██████████| 40/40 [00:02<00:00, 15.20it/s]"
          ]
        },
        {
          "output_type": "stream",
          "name": "stdout",
          "text": [
            "\n",
            "Test accuracy: 89.86%\n"
          ]
        },
        {
          "output_type": "stream",
          "name": "stderr",
          "text": [
            "\n"
          ]
        }
      ]
    },
    {
      "cell_type": "markdown",
      "source": [
        "Test accuracy: 89.86%"
      ],
      "metadata": {
        "id": "qv0ChyGupTQ0"
      }
    },
    {
      "cell_type": "markdown",
      "source": [
        "Задание.\n",
        "\n",
        "1. Распишите, как меняются: размеры картинок, receptive field при прохождении по слоям LeNet3. С помощью этого исправьте размерность на входе классификатора.\n",
        "2. Сколько всего параметров у LeNet3? Сравните с количеством параметров у линейной модели\n",
        "3. Насколько важны регуляризация и инициализация параметров? Попробуйте с/без dropout/инициализации, сравните результаты.\n",
        "4. Напигите свою модель, использующую параметров не больше, чем лог.регрессия, при этом имеющую качество не хуже, чем LeNet3 на тесте (советую обернуть обучение и тест модели в отдельные методы train и evalute).\n"
      ],
      "metadata": {
        "id": "2u0VwZGZpcKL"
      }
    },
    {
      "cell_type": "code",
      "source": [
        ""
      ],
      "metadata": {
        "id": "tBUhYYFiqkFR"
      },
      "execution_count": null,
      "outputs": []
    }
  ]
}